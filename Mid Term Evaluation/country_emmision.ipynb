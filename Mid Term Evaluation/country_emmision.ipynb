{
 "cells": [
  {
   "cell_type": "code",
   "execution_count": 4,
   "id": "8f4d895c-061e-4e74-b3ed-4bd7c1798519",
   "metadata": {},
   "outputs": [],
   "source": [
    "import pandas as pd\n",
    "from sklearn.model_selection import train_test_split\n",
    "from sklearn.preprocessing import StandardScaler, OneHotEncoder\n",
    "from sklearn.compose import ColumnTransformer\n",
    "from sklearn.pipeline import Pipeline\n",
    "from sklearn.impute import SimpleImputer"
   ]
  },
  {
   "cell_type": "code",
   "execution_count": 17,
   "id": "5947b5b0-9162-4f39-adb1-335ea60316ef",
   "metadata": {},
   "outputs": [],
   "source": [
    "df = pd.read_csv('vehicle_emission_dataset.csv')\n",
    "\n",
    "df.columns = df.columns.str.replace(' ', '_')"
   ]
  },
  {
   "cell_type": "code",
   "execution_count": 18,
   "id": "3b0fb8d5-f4ad-475d-af4c-f733cc139b1f",
   "metadata": {},
   "outputs": [],
   "source": [
    "X = df.drop(columns=['CO2_Emissions', 'NOx_Emissions', 'PM2.5_Emissions', 'VOC_Emissions', 'SO2_Emissions'])\n",
    "y = df[['CO2_Emissions', 'NOx_Emissions', 'PM2.5_Emissions', 'VOC_Emissions', 'SO2_Emissions']]\n",
    "\n",
    "X_train, X_test, y_train, y_test = train_test_split(X, y, test_size=0.2, random_state=42)"
   ]
  },
  {
   "cell_type": "code",
   "execution_count": 19,
   "id": "ca027f96-9e4d-4995-bb48-981112f08ec9",
   "metadata": {},
   "outputs": [],
   "source": [
    "numeric_features = ['Engine_Size', 'Age_of_Vehicle', 'Mileage', 'Speed', 'Acceleration', 'Temperature', 'Humidity', 'Wind_Speed', 'Air_Pressure']\n",
    "categorical_features = ['Vehicle_Type', 'Fuel_Type', 'Road_Type', 'Traffic_Conditions']\n",
    "\n",
    "numeric_transformer = Pipeline(steps=[\n",
    "    ('imputer', SimpleImputer(strategy='mean')),\n",
    "    ('scaler', StandardScaler())\n",
    "])\n",
    "\n",
    "categorical_transformer = Pipeline(steps=[\n",
    "    ('imputer', SimpleImputer(strategy='constant', fill_value='missing')),\n",
    "    ('onehot', OneHotEncoder(handle_unknown='ignore'))\n",
    "])\n",
    "\n",
    "preprocessor = ColumnTransformer(\n",
    "    transformers=[\n",
    "        ('num', numeric_transformer, numeric_features),\n",
    "        ('cat', categorical_transformer, categorical_features)\n",
    "    ])"
   ]
  },
  {
   "cell_type": "code",
   "execution_count": 20,
   "id": "e48c595c-b11d-4a41-9b46-ac8d40dede9c",
   "metadata": {},
   "outputs": [],
   "source": [
    "from sklearn.ensemble import RandomForestRegressor\n",
    "from sklearn.multioutput import MultiOutputRegressor\n",
    "from sklearn.model_selection import GridSearchCV\n",
    "\n",
    "model = Pipeline(steps=[\n",
    "    ('preprocessor', preprocessor),\n",
    "    ('regressor', MultiOutputRegressor(RandomForestRegressor(random_state=42)))\n",
    "])\n",
    "\n",
    "param_grid = {\n",
    "    'regressor__estimator__n_estimators': [100, 200],\n",
    "    'regressor__estimator__max_depth': [None, 10, 20],\n",
    "    'regressor__estimator__min_samples_split': [2, 5]\n",
    "}\n",
    "\n",
    "grid_search = GridSearchCV(model, param_grid, cv=5, scoring='neg_mean_squared_error', n_jobs=-1)\n",
    "grid_search.fit(X_train, y_train)\n",
    "\n",
    "best_model = grid_search.best_estimator_"
   ]
  },
  {
   "cell_type": "code",
   "execution_count": 21,
   "id": "e0105649-d458-44e8-a990-421c30c54140",
   "metadata": {},
   "outputs": [
    {
     "name": "stdout",
     "output_type": "stream",
     "text": [
      "Mean Absolute Error: 22.661784359569854\n",
      "Mean Squared Error: 3397.06412221948\n",
      "R-squared: -0.006066636818068983\n"
     ]
    }
   ],
   "source": [
    "from sklearn.metrics import mean_absolute_error, mean_squared_error, r2_score\n",
    "\n",
    "y_pred = best_model.predict(X_test)\n",
    "\n",
    "mae = mean_absolute_error(y_test, y_pred)\n",
    "mse = mean_squared_error(y_test, y_pred)\n",
    "r2 = r2_score(y_test, y_pred)\n",
    "\n",
    "print(f'Mean Absolute Error: {mae}')\n",
    "print(f'Mean Squared Error: {mse}')\n",
    "print(f'R-squared: {r2}')"
   ]
  },
  {
   "cell_type": "code",
   "execution_count": 23,
   "id": "5c3fc008-fbc4-4ee6-ba82-f46991cc024c",
   "metadata": {},
   "outputs": [
    {
     "name": "stdout",
     "output_type": "stream",
     "text": [
      "{'CO2_Emissions': 262.60675178401624, 'NOx_Emissions': 1.0313269704042904, 'PM2.5_Emissions': 0.10793081378500878, 'VOC_Emissions': 0.05787838191881496, 'SO2_Emissions': 0.056535220603857794}\n"
     ]
    }
   ],
   "source": [
    "def predict_emissions(input_data):\n",
    "    \"\"\"\n",
    "    Predicts the emissions for a given vehicle input.\n",
    "    \n",
    "    Parameters:\n",
    "    - input_data (dict): A dictionary containing the vehicle specifications.\n",
    "    \n",
    "    Returns:\n",
    "    - dict: Predicted emissions for CO₂, NOₓ, PM₂.₅, VOC, and SO₂.\n",
    "    \"\"\"\n",
    "    input_df = pd.DataFrame([input_data])\n",
    "    emissions = best_model.predict(input_df)\n",
    "    return {\n",
    "        'CO2_Emissions': emissions[0][0],\n",
    "        'NOx_Emissions': emissions[0][1],\n",
    "        'PM2.5_Emissions': emissions[0][2],\n",
    "        'VOC_Emissions': emissions[0][3],\n",
    "        'SO2_Emissions': emissions[0][4]\n",
    "    }\n",
    "\n",
    "vehicle_input = {\n",
    "    'Vehicle_Type': 'Sedan',\n",
    "    'Fuel_Type': 'Petrol',\n",
    "    'Engine_Size': 2.0,\n",
    "    'Age_of_Vehicle': 5,\n",
    "    'Mileage': 15000,\n",
    "    'Speed': 60,\n",
    "    'Acceleration': 8,\n",
    "    'Road_Type': 'Urban',\n",
    "    'Traffic_Conditions': 'Moderate',\n",
    "    'Temperature': 30,\n",
    "    'Humidity': 60,\n",
    "    'Wind_Speed': 15,\n",
    "    'Air_Pressure': 1015\n",
    "}\n",
    "\n",
    "predicted_emissions = predict_emissions(vehicle_input)\n",
    "print(predicted_emissions)\n"
   ]
  },
  {
   "cell_type": "code",
   "execution_count": null,
   "id": "0818dcbf-000c-4ddc-b066-0e92d36f9032",
   "metadata": {},
   "outputs": [],
   "source": []
  }
 ],
 "metadata": {
  "kernelspec": {
   "display_name": "Python 3 (ipykernel)",
   "language": "python",
   "name": "python3"
  },
  "language_info": {
   "codemirror_mode": {
    "name": "ipython",
    "version": 3
   },
   "file_extension": ".py",
   "mimetype": "text/x-python",
   "name": "python",
   "nbconvert_exporter": "python",
   "pygments_lexer": "ipython3",
   "version": "3.10.11"
  }
 },
 "nbformat": 4,
 "nbformat_minor": 5
}
